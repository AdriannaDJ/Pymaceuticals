


# Dependencies and Setup
import matplotlib.pyplot as plt
import pandas as pd
import scipy.stats as st

# Study data files
mouse_metadata_path = "data/Mouse_metadata.csv"
study_results_path = "data/Study_results.csv"

# Read the mouse data and the study results
mouse_metadata = pd.read_csv(mouse_metadata_path)
study_results = pd.read_csv(study_results_path)

# Combine the data into a single DataFrame
complete_mouse_data = pd.merge(study_results, mouse_metadata, on="Mouse ID")

# Display the data table for preview
complete_mouse_data.head(5)


# Checking the number of mice.
complete_mouse_data["Mouse ID"].nunique()


#My Answer to below instructions - is there a better way? Maybe review Zoom recordings for duplicates
complete_mouse_data[complete_mouse_data.duplicated(keep=False)]


# Our data should be uniquely identified by Mouse ID and Timepoint
# Get the duplicate mice by ID number that shows up for Mouse ID and Timepoint. 



# Optional: Get all the data for the duplicate mouse ID. 
complete_mouse_data.loc[complete_mouse_data['Mouse ID'] == 'g989']


# Create a clean DataFrame by dropping the duplicate mouse by its ID.
cleaned_mouse_data = complete_mouse_data.drop(complete_mouse_data[complete_mouse_data['Mouse ID'] == 'g989'].index)
cleaned_mouse_data.head(5)


# Checking the number of mice in the clean DataFrame.
cleaned_mouse_data["Mouse ID"].nunique()





# Generate a summary statistics table of mean, median, variance, standard deviation, and SEM of the tumor volume for each regimen

# Use groupby and summary statistical methods to calculate the following properties of each drug regimen: 
# mean, median, variance, standard deviation, and SEM of the tumor volume.
drug_tumor_mean = cleaned_mouse_data.groupby('Drug Regimen')['Tumor Volume (mm3)'].mean()
drug_tumor_median = cleaned_mouse_data.groupby('Drug Regimen')['Tumor Volume (mm3)'].median()
drug_tumor_variance = cleaned_mouse_data.groupby('Drug Regimen')['Tumor Volume (mm3)'].var()
drug_tumor_std = cleaned_mouse_data.groupby('Drug Regimen')['Tumor Volume (mm3)'].std()
drug_tumor_sem = cleaned_mouse_data.groupby('Drug Regimen')['Tumor Volume (mm3)'].sem()

# Assemble the resulting series into a single summary DataFrame.
drug_tumor_df = pd.DataFrame({'Mean Tumor Volume': drug_tumor_mean,
                             'Median Tumor Volume': drug_tumor_median,
                             'Tumor Volume Variance': drug_tumor_variance,
                             'Tumor Volume Std. Dev.': drug_tumor_std,
                             'Tumor Volume Std. Err.': drug_tumor_sem})

drug_tumor_df


# A more advanced method to generate a summary statistics table of mean, median, variance, standard deviation,
# and SEM of the tumor volume for each regimen (only one method is required in the solution)

# Using the aggregation method, produce the same summary statistics in a single line
cleaned_mouse_data.groupby('Drug Regimen')['Tumor Volume (mm3)'].agg(['mean', 'median', 'var', 'std', 'sem'])





# Generate a bar plot showing the total number of rows (Mouse ID/Timepoints) for each drug regimen using Pandas.

#find counts for Drug Regimen
#plot with pandas as bar
counts_drug_regimen = cleaned_mouse_data['Drug Regimen'].value_counts()
plot_drug_regimen = counts_drug_regimen.plot(kind="bar", ylabel="# of Observed Mouse Timepoints")


# Generate a bar plot showing the total number of rows (Mouse ID/Timepoints) for each drug regimen using pyplot.
#create x axis and y axis values
x_axis = drug_tumor_df.index
y_axis = cleaned_mouse_data['Drug Regimen'].value_counts()
# plot graph of series
plt.bar(x_axis, y_axis)
plt.xlabel('Drug Regimen')
plt.ylabel('# of Observed Mouse Timepoints')
plt.xticks(rotation = "vertical")
plt.show()


# Generate a pie plot showing the distribution of female versus male mice using Pandas

counts_sex = cleaned_mouse_data['Sex'].value_counts()
plot_sex = counts_sex.plot(kind="pie", ylabel="Sex", autopct='%.2f%%')


# Generate a pie plot showing the distribution of female versus male mice using pyplot
labels = ['Male', 'Female']
plt.pie(counts_sex, labels=labels, autopct='%.2f%%')
plt.ylabel('Sex')





# Calculate the final tumor volume of each mouse across four of the treatment regimens:  
# Capomulin, Ramicane, Infubinol, and Ceftamin
# Start by getting the last (greatest) timepoint for each mouse with groupby & reset Index
last_timepoint = cleaned_mouse_data.groupby('Mouse ID').last().reset_index()
last_timepoint
# Merge this group df with the original DataFrame to get the tumor volume at the last timepoint
updated_mouse_data = pd.merge(cleaned_mouse_data, last_timepoint[['Mouse ID', 'Timepoint']], on=["Mouse ID", 'Timepoint'], how='inner')
updated_mouse_data.sort_values('Mouse ID')


# Put treatments into a list for for loop (and later for plot labels)
treatments = ['Capomulin', 'Ramicane', 'Infubinol', 'Ceftamin']

# Create empty list to fill with tumor vol data (for plotting)
tumor_vol_data = []

# Calculate the IQR and quantitatively determine if there are any potential outliers. 
# A for loop is used to display the interquartile range (IQR) and the outliers for each treatment group 
    # Locate the rows which contain mice on each drug and get the tumor volumes
updated_mouse_data.loc[:, 'Drug Reimen'](treatments) #????
    
    # add subset 

    
    # Determine outliers using upper and lower bounds



# Generate a box plot that shows the distrubution of the tumor volume for each treatment group.






# Generate a line plot of tumor volume vs. time point for a single mouse treated with Capomulin



# Generate a scatter plot of mouse weight vs. the average observed tumor volume for the entire Capomulin regimen






# Calculate the correlation coefficient and a linear regression model 
# for mouse weight and average observed tumor volume for the entire Capomulin regimen




